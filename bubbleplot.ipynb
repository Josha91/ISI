{
 "cells": [
  {
   "cell_type": "code",
   "execution_count": 168,
   "metadata": {},
   "outputs": [],
   "source": [
    "#The workflow for the chart is like this:\n",
    "# First, edit the data in the main xlsx.\n",
    "# Then, update the local xlsx, which should have a data query in it to the relevant table\n",
    "# Then, save this as a csv (probably possible to eliminate this step)\n",
    "# Then, run this script to create the graph. Edit parameters as needed"
   ]
  },
  {
   "cell_type": "code",
   "execution_count": 169,
   "metadata": {},
   "outputs": [],
   "source": [
    "import plotly.io as pio\n",
    "pio.renderers.default = \"iframe\"\n",
    "# for some reason the native renderer doesn't work in anaconda/jupyter"
   ]
  },
  {
   "cell_type": "code",
   "execution_count": 170,
   "metadata": {},
   "outputs": [],
   "source": [
    "import plotly.express as px\n",
    "import pandas as pd\n",
    "import plotly.graph_objects as go\n",
    "\n",
    "dataframe_bubble = pd.read_csv(\"datasets/graph_table.csv\", sep=\";\", decimal=\",\")"
   ]
  },
  {
   "cell_type": "code",
   "execution_count": 191,
   "metadata": {},
   "outputs": [
    {
     "data": {
      "text/html": [
       "<iframe\n",
       "    scrolling=\"no\"\n",
       "    width=\"520px\"\n",
       "    height=\"520\"\n",
       "    src=\"iframe_figures/figure_191.html\"\n",
       "    frameborder=\"0\"\n",
       "    allowfullscreen\n",
       "></iframe>\n"
      ]
     },
     "metadata": {},
     "output_type": "display_data"
    }
   ],
   "source": [
    "fig = px.scatter(dataframe_bubble, \n",
    "                 x=\"Intergenerational Solidarity Index\", \n",
    "                 y=\"v2x_libdem\", \n",
    "                 size=\"Population\", \n",
    "                 color=\"Region\",\n",
    "                 hover_name=\"Country\", \n",
    "                 size_max=60,\n",
    "                )\n",
    "fig.add_trace(go.Scatter\n",
    "              (x=['0', '100']\n",
    "               , y=[0.42, 0.42]\n",
    "               , mode=\"lines\"\n",
    "               , name=\"\"))\n",
    "fig.add_trace(go.Scatter\n",
    "              (x=['50', '50']\n",
    "               , y=[-0.1, 1]\n",
    "               , mode=\"lines\"\n",
    "               , name=\"\"))\n",
    "fig.update_traces(line_color='#456987')\n",
    "   \n",
    "fig.update_layout(showlegend=False,\n",
    "                   width = 500,\n",
    "                  height = 500,\n",
    "                   margin=dict(\n",
    "        l=0,\n",
    "        r=0,\n",
    "        b=0,\n",
    "        t=0,\n",
    "        pad=0\n",
    "                   ),\n",
    "                autosize=False,\n",
    "                plot_bgcolor=\"#eeeeee\",\n",
    "                yaxis = dict(\n",
    "                scaleanchor = \"x\",\n",
    "                scaleratio = 119,)#scale ratio usually something different\n",
    "                 )\n",
    "fig.update_xaxes(showgrid=False,\n",
    "                zeroline=False,\n",
    "                range=[0, 100],\n",
    "                showticklabels=False,\n",
    "                )\n",
    "fig.update_yaxes(title_text='vDem Liberal Democracy',\n",
    "                showgrid=False,\n",
    "                zeroline=False,\n",
    "                range=[0, 0.88], #remember to change this for other indexes\n",
    "                showticklabels=False,)\n",
    "\n",
    "fig.show()\n"
   ]
  },
  {
   "cell_type": "code",
   "execution_count": 192,
   "metadata": {},
   "outputs": [],
   "source": [
    "#Use this to write an html if needed\n",
    "# import plotly.io as pio\n",
    "# pio.write_html(fig, file=’bubblechart.html’, auto_open=True)"
   ]
  },
  {
   "cell_type": "code",
   "execution_count": 193,
   "metadata": {},
   "outputs": [],
   "source": [
    "import chart_studio"
   ]
  },
  {
   "cell_type": "code",
   "execution_count": 194,
   "metadata": {},
   "outputs": [],
   "source": [
    "username = 'jaemikew' \n",
    "api_key = '3DMC84ZXuI11xkaPDFt3'"
   ]
  },
  {
   "cell_type": "code",
   "execution_count": 195,
   "metadata": {},
   "outputs": [],
   "source": [
    "chart_studio.tools.set_credentials_file(username=username, api_key=api_key)"
   ]
  },
  {
   "cell_type": "code",
   "execution_count": 196,
   "metadata": {},
   "outputs": [
    {
     "data": {
      "text/plain": [
       "'https://plotly.com/~jaemikew/9/'"
      ]
     },
     "execution_count": 196,
     "metadata": {},
     "output_type": "execute_result"
    }
   ],
   "source": [
    "#this pushes it to plotly.com\n",
    "import chart_studio.plotly as py\n",
    "py.plot(fig, filename = 'bubblechart', auto_open=False)"
   ]
  },
  {
   "cell_type": "code",
   "execution_count": null,
   "metadata": {},
   "outputs": [],
   "source": []
  },
  {
   "cell_type": "code",
   "execution_count": null,
   "metadata": {},
   "outputs": [],
   "source": []
  }
 ],
 "metadata": {
  "kernelspec": {
   "display_name": "Python 3",
   "language": "python",
   "name": "python3"
  },
  "language_info": {
   "codemirror_mode": {
    "name": "ipython",
    "version": 3
   },
   "file_extension": ".py",
   "mimetype": "text/x-python",
   "name": "python",
   "nbconvert_exporter": "python",
   "pygments_lexer": "ipython3",
   "version": "3.7.6"
  }
 },
 "nbformat": 4,
 "nbformat_minor": 4
}
