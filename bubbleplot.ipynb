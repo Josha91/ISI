{
 "cells": [
  {
   "cell_type": "code",
   "execution_count": null,
   "metadata": {},
   "outputs": [],
   "source": [
    "#The workflow for the chart is like this:\n",
    "# First, edit the data in the main xlsx.\n",
    "# Then, update the local xlsx, which should have a data query in it to the relevant table\n",
    "# Then, save this as a csv (probably possible to eliminate this step)\n",
    "# Then, run this script to create the graph. Edit parameters as needed"
   ]
  },
  {
   "cell_type": "code",
   "execution_count": null,
   "metadata": {},
   "outputs": [],
   "source": [
    "\n",
    "# pio.renderers.default = \"iframe\"\n",
    "# for some reason the native renderer doesn't work in anaconda/jupyter\n",
    "\n",
    "#Use this to write an html if needed\n",
    "# import plotly.io as pio\n",
    "# pio.write_html(fig, file=’bubblechart.html’, auto_open=True)"
   ]
  },
  {
   "cell_type": "code",
   "execution_count": 2,
   "metadata": {},
   "outputs": [],
   "source": [
    "import plotly.io as pio\n",
    "import plotly.express as px\n",
    "import pandas as pd\n",
    "import plotly.graph_objects as go\n",
    "import chart_studio.plotly as py\n",
    "import chart_studio\n",
    "\n",
    "# For trendline\n",
    "import statsmodels.api as sm # method 1\n",
    "import numpy as np # method 2\n",
    "\n",
    "username = 'jaemikew' \n",
    "api_key = 'jjXZuDDrkKTbsefPaohg'\n",
    "\n",
    "dataframe_bubble = pd.read_csv(\"datasets/graph_table.csv\", sep=\";\", decimal=\",\")\n",
    "chart_studio.tools.set_credentials_file(username=username, api_key=api_key)\n",
    "\n",
    "pio.renderers.default = 'iframe'"
   ]
  },
  {
   "cell_type": "code",
   "execution_count": 8,
   "metadata": {},
   "outputs": [],
   "source": []
  },
  {
   "cell_type": "code",
   "execution_count": 9,
   "metadata": {},
   "outputs": [
    {
     "data": {
      "text/html": [
       "<iframe\n",
       "    scrolling=\"no\"\n",
       "    width=\"520px\"\n",
       "    height=\"520\"\n",
       "    src=\"iframe_figures/figure_9.html\"\n",
       "    frameborder=\"0\"\n",
       "    allowfullscreen\n",
       "></iframe>\n"
      ]
     },
     "metadata": {},
     "output_type": "display_data"
    },
    {
     "data": {
      "text/html": [
       "<iframe\n",
       "    scrolling=\"no\"\n",
       "    width=\"270px\"\n",
       "    height=\"270\"\n",
       "    src=\"iframe_figures/figure_9.html\"\n",
       "    frameborder=\"0\"\n",
       "    allowfullscreen\n",
       "></iframe>\n"
      ]
     },
     "metadata": {},
     "output_type": "display_data"
    },
    {
     "data": {
      "text/html": [
       "<iframe\n",
       "    scrolling=\"no\"\n",
       "    width=\"520px\"\n",
       "    height=\"520\"\n",
       "    src=\"iframe_figures/figure_9.html\"\n",
       "    frameborder=\"0\"\n",
       "    allowfullscreen\n",
       "></iframe>\n"
      ]
     },
     "metadata": {},
     "output_type": "display_data"
    },
    {
     "data": {
      "text/html": [
       "<iframe\n",
       "    scrolling=\"no\"\n",
       "    width=\"270px\"\n",
       "    height=\"270\"\n",
       "    src=\"iframe_figures/figure_9.html\"\n",
       "    frameborder=\"0\"\n",
       "    allowfullscreen\n",
       "></iframe>\n"
      ]
     },
     "metadata": {},
     "output_type": "display_data"
    },
    {
     "data": {
      "text/html": [
       "<iframe\n",
       "    scrolling=\"no\"\n",
       "    width=\"520px\"\n",
       "    height=\"520\"\n",
       "    src=\"iframe_figures/figure_9.html\"\n",
       "    frameborder=\"0\"\n",
       "    allowfullscreen\n",
       "></iframe>\n"
      ]
     },
     "metadata": {},
     "output_type": "display_data"
    },
    {
     "data": {
      "text/html": [
       "<iframe\n",
       "    scrolling=\"no\"\n",
       "    width=\"270px\"\n",
       "    height=\"270\"\n",
       "    src=\"iframe_figures/figure_9.html\"\n",
       "    frameborder=\"0\"\n",
       "    allowfullscreen\n",
       "></iframe>\n"
      ]
     },
     "metadata": {},
     "output_type": "display_data"
    }
   ],
   "source": [
    "def generate_bubbles(w, h, size, y, yintercept, sr, yrb, yrt, tty, ttx, logy, wd, tl, dt):\n",
    "    fig = px.scatter(dataframe_bubble, \n",
    "                x=\"Intergenerational Solidarity Index\", \n",
    "                y= y, \n",
    "                size=\"Population\", \n",
    "                color=\"Region\",\n",
    "                hover_name=\"Country\", \n",
    "                size_max = size,\n",
    "                log_y= logy,\n",
    "                )\n",
    "    \n",
    "    # Trendline method 1 - OLS\n",
    "    # y_trendline = sm.OLS(dataframe_bubble[y],sm.add_constant(dataframe_bubble[\"Intergenerational Solidarity Index\"])).fit().fittedvalues\n",
    "    # Trendline method 2\n",
    "    #z = np.polyfit(dataframe_bubble[\"Intergenerational Solidarity Index\"], dataframe_bubble[\"v2x_libdem\"], 1)\n",
    "    #p = np.poly1d(z)\n",
    "    #y_trendline = p(dataframe_bubble[\"Intergenerational Solidarity Index\"])\n",
    "    #fig.add_traces(go.Scatter(x=dataframe_bubble[\"Intergenerational Solidarity Index\"], y=y_trendline,\n",
    "    #                         mode = 'lines',\n",
    "    #                         marker_color='black',\n",
    "    #                         name='trend all')\n",
    "    #)\n",
    "    \n",
    "    # Trendline method 1 - LOWESS\n",
    "    lowess = sm.nonparametric.lowess(dataframe_bubble[\"v2x_libdem\"].values,dataframe_bubble[\"Intergenerational Solidarity Index\"].values)\n",
    "    lowess_x = list(zip(*lowess))[0]\n",
    "    lowess_y = list(zip(*lowess))[1]\n",
    "    fig.add_traces(go.Scatter(x=lowess_x, y=lowess_y,\n",
    "                             mode = 'lines',\n",
    "                             marker_color='black',\n",
    "                             name='trend all')\n",
    "    )\n",
    "    \n",
    "    fig.add_shape(\n",
    "        # Line reference to the axes\n",
    "            type=\"line\",\n",
    "            xref=\"x\",\n",
    "            yref=\"y\",\n",
    "            x0=-20,\n",
    "            y0=yintercept,\n",
    "            x1=120,\n",
    "            y1=yintercept,\n",
    "            line=dict(\n",
    "                color=\"#456987\",\n",
    "                width=wd,\n",
    "            ),\n",
    "            layer='below'\n",
    "        )\n",
    "    fig.add_shape(\n",
    "        # Line reference to the axes\n",
    "            type=\"line\",\n",
    "            xref=\"x\",\n",
    "            yref=\"y\",\n",
    "            x0=50,\n",
    "            y0=-20,\n",
    "            x1=50,\n",
    "            y1=120,\n",
    "            line=dict(\n",
    "                color=\"#456987\",\n",
    "                width=wd,\n",
    "            ),\n",
    "            layer='below'\n",
    "        )   \n",
    "    fig.update_traces(line_color='#456987')\n",
    "    fig.update_layout(showlegend=False,\n",
    "                    width = w,\n",
    "                    height = h,\n",
    "                    margin=dict(\n",
    "            l=0,\n",
    "            r=0,\n",
    "            b=0,\n",
    "            t=0,\n",
    "            pad=0\n",
    "                    ),\n",
    "                    autosize=False,\n",
    "                    plot_bgcolor=\"#eeeeee\",\n",
    "                    yaxis = dict(\n",
    "                    scaleanchor = \"x\",\n",
    "                    scaleratio = sr,) \n",
    "                    )\n",
    "    fig.update_xaxes(title_text= ttx,\n",
    "                    showgrid=True,\n",
    "                    zeroline=False,\n",
    "                    range=[0, 100],\n",
    "                    showticklabels=True,\n",
    "                    )\n",
    "    fig.update_yaxes(title_text= tty,\n",
    "                    showgrid=True,\n",
    "                    zeroline=False,\n",
    "                    range = [yrb, yrt],\n",
    "                    showticklabels=True,\n",
    "                    dtick=dt,\n",
    "                    )\n",
    "    return fig\n",
    "\n",
    "configurations = [\n",
    "    {\"name\": \"VDemFullScreen\", \"w\": 500, \"h\": 500, \"size\": 60, \"dt\":0.2, \"tl\":\"lowess\", \"y\": \"v2x_libdem\",\"yintercept\":0.45, \"sr\": 111, \"yrb\":0, \"yrt\":0.9, \"tty\":\"VDem Liberal Democracy\", \"ttx\":\"Intergenerational Solidarity Index\",\"logy\":False, \"wd\":1},\n",
    "    {\"name\": \"VDemMobile\", \"w\": 250, \"h\": 250, \"size\": 20, \"dt\":0.2, \"tl\":\"lowess\", \"y\": \"v2x_libdem\", \"yintercept\":0.45, \"sr\": 111,\"yrb\":0, \"yrt\":0.9, \"tty\":\"VDem Lib. Democracy\", \"ttx\": \"ISI\",\"logy\":False, \"wd\":1},\n",
    "   \n",
    "    {\"name\": \"FSIFullScreen\", \"w\": 500, \"h\": 500, \"size\": 60, \"dt\":20, \"tl\":\"lowess\", \"y\": \"FSI\",\"yintercept\":50, \"sr\": 1, \"yrb\":0,\"yrt\":100, \"tty\":\"Fragile States Index\", \"ttx\": \"Intergenerational Solidarity Index\",\"logy\":False, \"wd\":0},\n",
    "    {\"name\": \"FSIMobile\", \"w\": 250, \"h\": 250, \"size\": 20, \"dt\":20, \"tl\":\"lowess\", \"y\": \"FSI\", \"yintercept\":50, \"sr\": 1,\"yrb\":0, \"yrt\":100,\"tty\":\"State Fragility\", \"ttx\": \"ISI\", \"logy\":False, \"wd\":0},\n",
    "   \n",
    "    {\"name\": \"DIFullScreen\", \"w\": 500, \"h\": 500, \"size\": 60, \"dt\":1, \"tl\":\"none\", \"y\": \"AdjDi\",\"yintercept\":50, \"sr\": 0.1, \"yrb\":-3,\"yrt\":2, \"tty\":\"Decentralisation Index (Adjusted)\", \"ttx\": \"Intergenerational Solidarity Index\",\"logy\":True, \"wd\":0},\n",
    "    {\"name\": \"DIMobile\", \"w\": 250, \"h\": 250, \"size\": 20, \"dt\":1, \"tl\":\"none\", \"y\": \"AdjDi\", \"yintercept\":50, \"sr\": 0.1, \"yrb\":-3, \"yrt\":2,\"tty\":\"Decentralisation\", \"ttx\": \"ISI\", \"logy\":True, \"wd\":0},\n",
    "]\n",
    "\n",
    "for item in configurations:\n",
    "    fig = generate_bubbles(w=item[\"w\"], \n",
    "                           h=item[\"h\"], \n",
    "                           size=item[\"size\"], \n",
    "                           y=item[\"y\"], \n",
    "                           yintercept=item[\"yintercept\"], \n",
    "                           sr=item[\"sr\"], \n",
    "                           yrb=item[\"yrb\"], \n",
    "                           yrt=item[\"yrt\"], \n",
    "                           tty=item[\"tty\"], \n",
    "                           ttx=item[\"ttx\"], \n",
    "                           logy=item[\"logy\"], \n",
    "                           wd=item[\"wd\"],\n",
    "                           tl=item[\"tl\"],\n",
    "                           dt=item[\"dt\"]\n",
    "                          )\n",
    "    fig.show()\n",
    "    py.plot(fig, filename = item[\"name\"], auto_open=False)"
   ]
  },
  {
   "cell_type": "code",
   "execution_count": null,
   "metadata": {},
   "outputs": [],
   "source": []
  }
 ],
 "metadata": {
  "kernelspec": {
   "display_name": "Python 3",
   "language": "python",
   "name": "python3"
  },
  "language_info": {
   "codemirror_mode": {
    "name": "ipython",
    "version": 3
   },
   "file_extension": ".py",
   "mimetype": "text/x-python",
   "name": "python",
   "nbconvert_exporter": "python",
   "pygments_lexer": "ipython3",
   "version": "3.8.2"
  }
 },
 "nbformat": 4,
 "nbformat_minor": 4
}
